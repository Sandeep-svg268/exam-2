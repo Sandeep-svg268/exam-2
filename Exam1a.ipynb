{
 "cells": [
  {
   "cell_type": "markdown",
   "id": "022fa7ea",
   "metadata": {},
   "source": [
    "<h1> <font color='blue'> CVEN 5301: ST: Computational Skills in Engineering using Python </font> </h1>"
   ]
  },
  {
   "cell_type": "markdown",
   "id": "ff099ac1",
   "metadata": {},
   "source": [
    "<h4> <center> <font color ='red'> Exam 1: Solution Key: Venki Uddameri </font></center></h4>"
   ]
  },
  {
   "cell_type": "markdown",
   "id": "705ccb16",
   "metadata": {},
   "source": [
    "<h2> Problem 1: </h2>"
   ]
  },
  {
   "cell_type": "markdown",
   "id": "56dfcaf5",
   "metadata": {},
   "source": [
    "A 55 ft culvert will pass a roadway. At flood stage the water ponded behind the roadway (hi) will be 6 ft above the culvert.  The design discharge is, q, is 40 cfs. The discharge coefficient, Cd, is 0.6 The acceleration due to gravity, g, is 32.2 ft/s$^2$.  What is the culvert diameter? \n",
    "\n",
    "The culvert diameter can be computed by obtaining the roots of the following equation:\n",
    "\n",
    "$$\n",
    "f(D) = D^5 - 12 D^4 +16 \\frac{q^2}{(\\pi^2 C_d^2 g)}\n",
    "$$\n",
    "\n",
    "Design guidelines recommend that the culvert diamater should be as small as possible and not exceed 10 ft.  Solve for the Culver Diameter using Newton Raphson Method."
   ]
  },
  {
   "cell_type": "markdown",
   "id": "9a595f69",
   "metadata": {},
   "source": [
    "<h3> Newton-Raphson Method </h3>"
   ]
  },
  {
   "cell_type": "markdown",
   "id": "a217a203",
   "metadata": {},
   "source": [
    "The estimate at the (i+1) iteration of the Newton-Raphson Method is obtained from the i$^{th}$ estimate as follows:\n",
    "$$\n",
    "D_{i+1} = D_{i} - \\frac{f(D_i)}{f'(D_i)}\n",
    "$$\n",
    "The algorithm starts with an initial guess of D and iterates successively till the absolute difference between two successive iterations is below an acceptable tolerance. "
   ]
  },
  {
   "cell_type": "markdown",
   "id": "d3f270bc",
   "metadata": {},
   "source": [
    "<h3> Approximate Unknown Roots </h3>"
   ]
  },
  {
   "cell_type": "markdown",
   "id": "2288b66e",
   "metadata": {},
   "source": [
    "We know that the diameter of the culvert cannot be zero or less.  We also know that it should not be greater than 10 but as small as possible.  In addition, as f(D) is a 5$^{th}$ power polynomial equation it will have 5 roots.  It is therefore, useful to plot the function f(D) and see where the likely roots are going to be. "
   ]
  },
  {
   "cell_type": "code",
   "execution_count": 2,
   "id": "cae6d457",
   "metadata": {},
   "outputs": [],
   "source": [
    "# Import libraries\n",
    "import math\n",
    "import numpy as np\n",
    "from matplotlib import pyplot as plt\n",
    "# Define function f(D)\n",
    "def fd(D,q,Cd):\n",
    "    g = 32.2\n",
    "    const = 16*(q**2/(Cd**2*math.pi*g))\n",
    "    fdx = np.power(D,5) - 12*np.power(D,4) + const\n",
    "    return(fdx)\n"
   ]
  },
  {
   "cell_type": "code",
   "execution_count": 5,
   "id": "76d80d6f",
   "metadata": {},
   "outputs": [
    {
     "data": {
      "image/png": "[encoded data removed]",
      "text/plain": [
       "<Figure size 640x480 with 1 Axes>"
      ]
     },
     "metadata": {},
     "output_type": "display_data"
    }
   ],
   "source": [
    "# compute f(D) versus D\n",
    "# Use ft for length, s for time\n",
    "q = 40 #cfs\n",
    "Cd = 0.6\n",
    "Dr = np.arange(0.01,10,0.1) \n",
    "fDr = fd(Dr,q,Cd)\n",
    "# Make a plot\n",
    "plt.plot(Dr,fDr,'bo')\n",
    "plt.xlabel('Diameter (ft)')\n",
    "plt.ylabel('F(D)')\n",
    "plt.title('Plot of F(D) versus D')\n",
    "plt.axhline(y = 0, color =\"red\", linestyle =\"--\")\n",
    "plt.show()  # Plot below indicates the value is between 2 and 4"
   ]
  },
  {
   "cell_type": "markdown",
   "id": "442e59ff",
   "metadata": {},
   "source": [
    "<h3> Newton Raphson Implementation"
   ]
  },
  {
   "cell_type": "code",
   "execution_count": 6,
   "id": "1bb166b1",
   "metadata": {},
   "outputs": [],
   "source": [
    "# Define Function f'(D)\n",
    "def fp(D):\n",
    "    fpx = 5*np.power(D,4) - 48 * np.power(D,3)\n",
    "    return(fpx)"
   ]
  },
  {
   "cell_type": "code",
   "execution_count": 7,
   "id": "03793477",
   "metadata": {},
   "outputs": [],
   "source": [
    "# Function to perform Newton Raphson method\n",
    "def newton(D,q,Cd):\n",
    "    tol = 1E-06\n",
    "    res = 100\n",
    "    i = 0\n",
    "    while(res > tol):\n",
    "        fdi = fd(D,q,Cd)\n",
    "        fpdi = fp(D)\n",
    "        Dnew = D - fdi/fpdi\n",
    "        res = np.abs(D-Dnew)\n",
    "        D = Dnew\n",
    "        i = i + 1\n",
    "    return(D,i)\n",
    "    "
   ]
  },
  {
   "cell_type": "code",
   "execution_count": 15,
   "id": "12348dca",
   "metadata": {},
   "outputs": [
    {
     "name": "stdout",
     "output_type": "stream",
     "text": [
      "Newton-Raphson Algorithm Converged in: 6 Iterations\n",
      "The culvert Diameter is:2.97 ft\n"
     ]
    }
   ],
   "source": [
    "D = 2.  #Supply Initial Guess\n",
    "Dopt,iterx = newton(D,q,Cd) #Call Newton Raphson\n",
    "# Print Results\n",
    "print(\"Newton-Raphson Algorithm Converged in: \" + str(iterx) + \" Iterations\")\n",
    "print(\"The culvert Diameter is:\" + str(round(Dopt,3)) + ' ft')\n"
   ]
  },
  {
   "cell_type": "code",
   "execution_count": null,
   "id": "5a66ba2e",
   "metadata": {},
   "outputs": [],
   "source": []
  }
 ],
 "metadata": {
  "kernelspec": {
   "display_name": "Python 3 (ipykernel)",
   "language": "python",
   "name": "python3"
  },
  "language_info": {
   "codemirror_mode": {
    "name": "ipython",
    "version": 3
   },
   "file_extension": ".py",
   "mimetype": "text/x-python",
   "name": "python",
   "nbconvert_exporter": "python",
   "pygments_lexer": "ipython3",
   "version": "3.9.12"
  }
 },
 "nbformat": 4,
 "nbformat_minor": 5
}
